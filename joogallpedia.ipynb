{
 "cells": [
  {
   "cell_type": "code",
   "execution_count": 43,
   "metadata": {},
   "outputs": [],
   "source": [
    "import telegram\n",
    "token = '1080635812:AAH7lMSdM6i-aqMB3X0XI4RD0SNum207Ge0'\n",
    "bot = telegram.Bot(token=token)"
   ]
  },
  {
   "cell_type": "code",
   "execution_count": 44,
   "metadata": {},
   "outputs": [],
   "source": [
    "# schedular import\n",
    "from apscheduler.schedulers.background import BackgroundScheduler\n",
    "# localtime 찍기\n",
    "import time"
   ]
  },
  {
   "cell_type": "code",
   "execution_count": 45,
   "metadata": {},
   "outputs": [],
   "source": [
    "def push():\n",
    "    text = \"Test...| [time] \" + \\\n",
    "    str(time.localtime().tm_hour) + \":\" \\\n",
    "    + str(time.localtime().tm_min) + \":\" + \\\n",
    "    str(time.localtime().tm_sec)\n",
    "    # 보내고 싶은 chat_id에 text 메세지 보내기\n",
    "    bot.sendMessage(chat_id='993720824', text= text)"
   ]
  },
  {
   "cell_type": "code",
   "execution_count": 46,
   "metadata": {},
   "outputs": [],
   "source": [
    "sched = BackgroundScheduler()\n",
    "sched.start()"
   ]
  },
  {
   "cell_type": "code",
   "execution_count": 47,
   "metadata": {},
   "outputs": [
    {
     "data": {
      "text/plain": [
       "<Job (id=test_1 name=push)>"
      ]
     },
     "execution_count": 47,
     "metadata": {},
     "output_type": "execute_result"
    }
   ],
   "source": [
    "# every 1 minute 마다 push함수를 실행하는 스케줄을 test_1 이름으로 등록\n",
    "sched.add_job(push, 'cron', minute='*/1', id=\"test_1\")"
   ]
  },
  {
   "cell_type": "code",
   "execution_count": 48,
   "metadata": {},
   "outputs": [],
   "source": [
    "sched.remove_job(\"test_1\")"
   ]
  },
  {
   "cell_type": "code",
   "execution_count": null,
   "metadata": {},
   "outputs": [],
   "source": []
  }
 ],
 "metadata": {
  "kernelspec": {
   "display_name": "Python 3",
   "language": "python",
   "name": "python3"
  },
  "language_info": {
   "codemirror_mode": {
    "name": "ipython",
    "version": 3
   },
   "file_extension": ".py",
   "mimetype": "text/x-python",
   "name": "python",
   "nbconvert_exporter": "python",
   "pygments_lexer": "ipython3",
   "version": "3.8.0"
  }
 },
 "nbformat": 4,
 "nbformat_minor": 4
}
