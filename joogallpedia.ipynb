{
 "cells": [
  {
   "cell_type": "code",
   "execution_count": 11,
   "metadata": {},
   "outputs": [],
   "source": [
    "import telegram\n",
    "token = '1080635812:AAH7lMSdM6i-aqMB3X0XI4RD0SNum207Ge0'\n",
    "bot = telegram.Bot(token=token)"
   ]
  },
  {
   "cell_type": "code",
   "execution_count": 12,
   "metadata": {},
   "outputs": [],
   "source": [
    "# schedular import\n",
    "from apscheduler.schedulers.background import BackgroundScheduler\n",
    "# localtime 찍기\n",
    "import time"
   ]
  },
  {
   "cell_type": "code",
   "execution_count": 18,
   "metadata": {},
   "outputs": [],
   "source": [
    "def push(price):\n",
    "    text = f'Price is {price}'\n",
    "    # 보내고 싶은 chat_id에 text 메세지 보내기\n",
    "    bot.sendMessage(chat_id='1120099699', text= text)"
   ]
  },
  {
   "cell_type": "code",
   "execution_count": 19,
   "metadata": {},
   "outputs": [],
   "source": [
    "sched = BackgroundScheduler()\n",
    "sched.start()"
   ]
  },
  {
   "cell_type": "code",
   "execution_count": 23,
   "metadata": {},
   "outputs": [
    {
     "data": {
      "text/plain": [
       "<Job (id=test_1 name=<lambda>)>"
      ]
     },
     "execution_count": 23,
     "metadata": {},
     "output_type": "execute_result"
    }
   ],
   "source": [
    "# every 1 minute 마다 push함수를 실행하는 스케줄을 test_1 이름으로 등록\n",
    "sched.add_job(lambda: push('150'), 'cron', minute='*/1', id=\"test_1\")"
   ]
  },
  {
   "cell_type": "code",
   "execution_count": 16,
   "metadata": {},
   "outputs": [],
   "source": [
    "sched.remove_job(\"test_1\")"
   ]
  },
  {
   "cell_type": "code",
   "execution_count": 7,
   "metadata": {},
   "outputs": [],
   "source": [
    "updates = bot.getUpdates()"
   ]
  },
  {
   "cell_type": "code",
   "execution_count": 10,
   "metadata": {},
   "outputs": [
    {
     "data": {
      "text/plain": [
       "[<telegram.update.Update at 0x1140c4490>,\n",
       " <telegram.update.Update at 0x1140c4210>,\n",
       " <telegram.update.Update at 0x1140c4450>]"
      ]
     },
     "execution_count": 10,
     "metadata": {},
     "output_type": "execute_result"
    }
   ],
   "source": [
    "updates"
   ]
  },
  {
   "cell_type": "code",
   "execution_count": 9,
   "metadata": {},
   "outputs": [
    {
     "name": "stdout",
     "output_type": "stream",
     "text": [
      "{'update_id': 216387145, 'message': {'message_id': 23, 'date': 1584876253, 'chat': {'id': 1120099699, 'type': 'private', 'first_name': 'Hoonst', 'last_name': 'Yoon'}, 'text': '/start', 'entities': [{'type': 'bot_command', 'offset': 0, 'length': 6}], 'caption_entities': [], 'photo': [], 'new_chat_members': [], 'new_chat_photo': [], 'delete_chat_photo': False, 'group_chat_created': False, 'supergroup_chat_created': False, 'channel_chat_created': False, 'from': {'id': 1120099699, 'first_name': 'Hoonst', 'is_bot': False, 'last_name': 'Yoon', 'language_code': 'ko'}}}\n",
      "{'update_id': 216387146, 'message': {'message_id': 24, 'date': 1584876255, 'chat': {'id': 1120099699, 'type': 'private', 'first_name': 'Hoonst', 'last_name': 'Yoon'}, 'text': 'hi', 'entities': [], 'caption_entities': [], 'photo': [], 'new_chat_members': [], 'new_chat_photo': [], 'delete_chat_photo': False, 'group_chat_created': False, 'supergroup_chat_created': False, 'channel_chat_created': False, 'from': {'id': 1120099699, 'first_name': 'Hoonst', 'is_bot': False, 'last_name': 'Yoon', 'language_code': 'ko'}}}\n",
      "{'update_id': 216387147, 'message': {'message_id': 25, 'date': 1584876261, 'chat': {'id': 1120099699, 'type': 'private', 'first_name': 'Hoonst', 'last_name': 'Yoon'}, 'text': 'give me the fucking token', 'entities': [], 'caption_entities': [], 'photo': [], 'new_chat_members': [], 'new_chat_photo': [], 'delete_chat_photo': False, 'group_chat_created': False, 'supergroup_chat_created': False, 'channel_chat_created': False, 'from': {'id': 1120099699, 'first_name': 'Hoonst', 'is_bot': False, 'last_name': 'Yoon', 'language_code': 'ko'}}}\n"
     ]
    }
   ],
   "source": [
    "for i in updates:\n",
    "    print(i)"
   ]
  },
  {
   "cell_type": "code",
   "execution_count": null,
   "metadata": {},
   "outputs": [],
   "source": []
  }
 ],
 "metadata": {
  "kernelspec": {
   "display_name": "joogaeler",
   "language": "python",
   "name": "joogael"
  },
  "language_info": {
   "codemirror_mode": {
    "name": "ipython",
    "version": 3
   },
   "file_extension": ".py",
   "mimetype": "text/x-python",
   "name": "python",
   "nbconvert_exporter": "python",
   "pygments_lexer": "ipython3",
   "version": "3.7.6"
  }
 },
 "nbformat": 4,
 "nbformat_minor": 4
}
